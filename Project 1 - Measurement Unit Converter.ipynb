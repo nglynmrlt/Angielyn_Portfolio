{
 "cells": [
  {
   "cell_type": "markdown",
   "id": "70d346cd-c189-4072-8af3-ffdaefae2116",
   "metadata": {},
   "source": [
    "## Project 1 - Measurement Unit Converter"
   ]
  },
  {
   "cell_type": "code",
   "execution_count": 33,
   "id": "f0d4a8fe-8973-4f26-aa0f-480829257e2d",
   "metadata": {},
   "outputs": [
    {
     "name": "stdin",
     "output_type": "stream",
     "text": [
      "Enter Starting Unit of Measurement(inches, feet, yards): feet\n",
      "Enter Unit of Measurement to Convert to(inches, feet, yards): yd\n",
      "Enter Starting Measurement in Feet:  56\n"
     ]
    },
    {
     "name": "stdout",
     "output_type": "stream",
     "text": [
      "Result: 56 Feet = 18.67 Yards\n"
     ]
    }
   ],
   "source": [
    "convert_from = input(\"Enter Starting Unit of Measurement(inches, feet, yards):\")\n",
    "convert_to = input(\"Enter Unit of Measurement to Convert to(inches, feet, yards):\")\n",
    "\n",
    "if convert_from.lower() in [\"inches\",\"in\",\"inch\"]:\n",
    "   number_inches = int(input(\"Enter Starting Measurement in Inches: \"))\n",
    "   if convert_to.lower() in [\"feet\", \"ft\", \"foot\"]:\n",
    "       print(\"Result: \" + str(number_inches) + \" Inches = \" + str(round(number_inches / 12,2)) + \" Feet\")\n",
    "   elif convert_to.lower() in [\"yards\", \"yard\", \"yd\", \"yds\"]:\n",
    "       print(\"Result: \" + str(number_inches) + \" Inches = \" + str(round(number_inches / 36,2)) + \" Yards\")\n",
    "   else:\n",
    "       print(\"Please enter either Inches, Feet, or Yards.\")\n",
    "\n",
    "elif convert_from.lower() in [\"feet\", \"ft\", \"foot\"]:\n",
    "   number_feet = int(input(\"Enter Starting Measurement in Feet: \"))\n",
    "   if convert_to.lower() in [\"inches\",\"in\",\"inch\"]:\n",
    "       print(\"Result: \" + str(number_feet) + \" Feet = \" + str(round(number_feet * 12)) + \" Inches\")\n",
    "   elif convert_to.lower() in [\"yards\", \"yard\", \"yd\", \"yds\"]:\n",
    "       print(\"Result: \" + str(number_feet) + \" Feet = \" + str(round(number_feet / 3,2)) + \" Yards\")\n",
    "   else:\n",
    "       print(\"Please enter either Inches, Feet, or Yards.\")\n",
    "\n",
    "elif convert_from.lower() in [\"yards\", \"yard\", \"yd\", \"yds\"]:\n",
    "   number_yards = int(input(\"Enter Starting Measurement in Yards: \"))\n",
    "   if convert_to.lower() in [\"inches\",\"in\",\"inch\"]:\n",
    "       print(\"Result: \" + str(number_yards) + \" Yards = \" + str(round(number_yards * 36)) + \" Inches\")\n",
    "   elif convert_to.lower() in [\"feet\", \"ft\", \"foot\"]:\n",
    "       print(\"Result: \" + str(number_yards) + \" Yards = \" + str(round(number_yards * 3)) + \" Feet\")\n",
    "   else:\n",
    "       print(\"Please enter either Inches, Feet, or Yards.\")\n",
    "       \n",
    "else:\n",
    "   print(\"Please enter either Inches, Feet, or Yards.\")\n",
    "    "
   ]
  },
  {
   "cell_type": "code",
   "execution_count": null,
   "id": "e4fafd22-25e0-4d04-97b6-cf51723b4ab0",
   "metadata": {},
   "outputs": [],
   "source": []
  }
 ],
 "metadata": {
  "kernelspec": {
   "display_name": "Python [conda env:base] *",
   "language": "python",
   "name": "conda-base-py"
  },
  "language_info": {
   "codemirror_mode": {
    "name": "ipython",
    "version": 3
   },
   "file_extension": ".py",
   "mimetype": "text/x-python",
   "name": "python",
   "nbconvert_exporter": "python",
   "pygments_lexer": "ipython3",
   "version": "3.13.5"
  }
 },
 "nbformat": 4,
 "nbformat_minor": 5
}
