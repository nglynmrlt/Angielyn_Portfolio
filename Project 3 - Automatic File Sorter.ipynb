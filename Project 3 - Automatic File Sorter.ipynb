{
 "cells": [
  {
   "cell_type": "markdown",
   "id": "c3682e9b-ff59-424c-aaf5-617ce9c5c4cb",
   "metadata": {},
   "source": [
    "## Project 3 - Automatic File Sorter"
   ]
  },
  {
   "cell_type": "code",
   "execution_count": 20,
   "id": "54e029ca-3ca2-4eb3-a13c-6cbe79d3eaae",
   "metadata": {},
   "outputs": [],
   "source": [
    "import os, shutil, pandas as pd\n",
    "\n",
    "if not os.path.exists(r'C:\\Users\\annie\\OneDrive\\Desktop\\Angielyn\\Practices\\Python\\Automatic_Sorter'):\n",
    "    os.mkdir(r'C:\\Users\\annie\\OneDrive\\Desktop\\Angielyn\\Practices\\Python\\Automatic_Sorter')\n",
    "\n",
    "path = r'C:\\Users\\annie\\OneDrive\\Desktop\\Angielyn\\Practices\\Python\\Automatic_Sorter\\\\'\n",
    "\n",
    "folder_names = ['CSV Files','Text Files','Image Files']\n",
    "\n",
    "#C:\\Users\\annie\\OneDrive\\Desktop\\Angielyn\\Practices\\Python\\Automatic_Sorter\\CSV Files\n",
    "\n",
    "for folder in folder_names:\n",
    "    if not os.path.exists(path + folder):\n",
    "        os.makedirs(path + folder)\n",
    "\n",
    "file_names = os.listdir(path)\n",
    "\n",
    "for file in file_names:\n",
    "    if \".csv\" in file and not os.path.exists(path + \"CSV Files\\\\\" + file):\n",
    "        shutil.move(path + file, path + \"CSV Files\\\\\" + file )\n",
    "    elif \".png\" in file and not os.path.exists(path + \"Image Files\\\\\" + file):\n",
    "        shutil.move(path + file, path + \"Image Files\\\\\" + file )\n",
    "    elif \".txt\" in file and not os.path.exists(path + \"Text Files\\\\\" + file):\n",
    "        shutil.move(path + file, path + \"Text Files\\\\\" + file )"
   ]
  },
  {
   "cell_type": "code",
   "execution_count": null,
   "id": "29d3df2a-4672-4565-a901-98785550020f",
   "metadata": {},
   "outputs": [],
   "source": []
  }
 ],
 "metadata": {
  "kernelspec": {
   "display_name": "Python [conda env:base] *",
   "language": "python",
   "name": "conda-base-py"
  },
  "language_info": {
   "codemirror_mode": {
    "name": "ipython",
    "version": 3
   },
   "file_extension": ".py",
   "mimetype": "text/x-python",
   "name": "python",
   "nbconvert_exporter": "python",
   "pygments_lexer": "ipython3",
   "version": "3.13.5"
  }
 },
 "nbformat": 4,
 "nbformat_minor": 5
}
