{
 "cells": [
  {
   "cell_type": "markdown",
   "id": "7f6824c0-dfa3-4015-95c8-b5b250681ab5",
   "metadata": {},
   "source": [
    "## Project 2: Calculator"
   ]
  },
  {
   "cell_type": "code",
   "execution_count": 13,
   "id": "275c6565-b7e4-46c4-b865-87e148e3c09b",
   "metadata": {},
   "outputs": [],
   "source": [
    "def add(x,y):\n",
    "    return x + y\n",
    "\n",
    "def subtract(x,y):\n",
    "    return x - y\n",
    "\n",
    "def multiply(x,y):\n",
    "    return x * y\n",
    "\n",
    "def divide(x,y):\n",
    "    return x / y    "
   ]
  },
  {
   "cell_type": "code",
   "execution_count": 31,
   "id": "bbe10c99-98ba-44ad-86b6-389d6dff223a",
   "metadata": {},
   "outputs": [
    {
     "name": "stdout",
     "output_type": "stream",
     "text": [
      "Enter 'A' for Addition.\n",
      "Enter 'S' for Subtraction.\n",
      "Enter 'M' for Multiplication.\n",
      "Enter 'D' for Division.\n"
     ]
    },
    {
     "name": "stdin",
     "output_type": "stream",
     "text": [
      "Enter Choice: (A, S, M, D):  Div\n",
      "Enter first number:  5\n",
      "Enter second number:  5\n"
     ]
    },
    {
     "name": "stdout",
     "output_type": "stream",
     "text": [
      "Result: 5.0 / 5.0 = 1.0\n"
     ]
    },
    {
     "name": "stdin",
     "output_type": "stream",
     "text": [
      "Want to do another calculation? (Y/N?):  Y\n",
      "Enter Choice: (A, S, M, D):  add\n",
      "Enter first number:  5\n",
      "Enter second number:  5\n"
     ]
    },
    {
     "name": "stdout",
     "output_type": "stream",
     "text": [
      "Result: 5.0 + 5.0 = 10.0\n"
     ]
    },
    {
     "name": "stdin",
     "output_type": "stream",
     "text": [
      "Want to do another calculation? (Y/N?):  \n",
      "Enter Choice: (A, S, M, D):  s\n",
      "Enter first number:  5\n",
      "Enter second number:  5\n"
     ]
    },
    {
     "name": "stdout",
     "output_type": "stream",
     "text": [
      "Result: 5.0 - 5.0 = 0.0\n"
     ]
    },
    {
     "name": "stdin",
     "output_type": "stream",
     "text": [
      "Want to do another calculation? (Y/N?):  n\n"
     ]
    }
   ],
   "source": [
    "print(\"Enter 'A' for Addition.\")\n",
    "print(\"Enter 'S' for Subtraction.\")\n",
    "print(\"Enter 'M' for Multiplication.\")\n",
    "print(\"Enter 'D' for Division.\")\n",
    "\n",
    "while True: ## for loop\n",
    "    Choice = input('Enter Choice: (A, S, M, D): ')\n",
    "    \n",
    "    if Choice.lower() in ('a','add','addition','s','subtract','sub','subtraction','m','multiply','multiplication','d','div','division','divide'):\n",
    "        x = float(input('Enter first number: '))\n",
    "        y = float(input('Enter second number: '))\n",
    "    \n",
    "        if Choice.lower() in ('a','add','addition'):\n",
    "            print('Result:', x, '+', y, '=', add(x,y))\n",
    "    \n",
    "        elif Choice.lower() in ('s','subtract','sub','subtraction'):\n",
    "            print('Result:', x, '-', y, '=', subtract(x,y))\n",
    "    \n",
    "        elif Choice.lower() in ('m','multiply','multiplication'):\n",
    "            print('Result:', x, '*', y, '=', multiply(x,y))\n",
    "    \n",
    "        elif Choice.lower() in ('d','div','division','divide'):\n",
    "            print('Result:', x, '/', y, '=', round(divide(x,y),2))\n",
    "    \n",
    "    else:\n",
    "        print('Please input a correct choice.')\n",
    "\n",
    "    next_calculation = input('Want to do another calculation? (Y/N?): ')\n",
    "    if next_calculation.lower() in ('no','n','nope'):\n",
    "        break ## to stop"
   ]
  },
  {
   "cell_type": "code",
   "execution_count": null,
   "id": "9f1620d2-b886-4859-a323-b6508d5ed1df",
   "metadata": {},
   "outputs": [],
   "source": []
  }
 ],
 "metadata": {
  "kernelspec": {
   "display_name": "Python [conda env:base] *",
   "language": "python",
   "name": "conda-base-py"
  },
  "language_info": {
   "codemirror_mode": {
    "name": "ipython",
    "version": 3
   },
   "file_extension": ".py",
   "mimetype": "text/x-python",
   "name": "python",
   "nbconvert_exporter": "python",
   "pygments_lexer": "ipython3",
   "version": "3.13.5"
  }
 },
 "nbformat": 4,
 "nbformat_minor": 5
}
